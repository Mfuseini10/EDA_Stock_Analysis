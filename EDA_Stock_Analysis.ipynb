{
 "cells": [
  {
   "cell_type": "markdown",
   "metadata": {
    "id": "0L6A5ER-m1Y8"
   },
   "source": [
    "# **Exploratory Analysis of Stock Prices**"
   ]
  },
  {
   "cell_type": "code",
   "execution_count": 1,
   "metadata": {
    "id": "Ee1XsqCxm_gY"
   },
   "outputs": [],
   "source": [
    "#import neccessary packages\n",
    "import pandas as pd\n",
    "import numpy as np\n",
    "from matplotlib import pyplot as plt"
   ]
  },
  {
   "cell_type": "code",
   "execution_count": 2,
   "metadata": {
    "colab": {
     "base_uri": "https://localhost:8080/",
     "height": 206
    },
    "id": "G6hKxZ6dpnrv",
    "outputId": "bae2fcb9-a4c9-45be-ff63-9879e2f20f59"
   },
   "outputs": [
    {
     "data": {
      "text/html": [
       "<div>\n",
       "<style scoped>\n",
       "    .dataframe tbody tr th:only-of-type {\n",
       "        vertical-align: middle;\n",
       "    }\n",
       "\n",
       "    .dataframe tbody tr th {\n",
       "        vertical-align: top;\n",
       "    }\n",
       "\n",
       "    .dataframe thead th {\n",
       "        text-align: right;\n",
       "    }\n",
       "</style>\n",
       "<table border=\"1\" class=\"dataframe\">\n",
       "  <thead>\n",
       "    <tr style=\"text-align: right;\">\n",
       "      <th></th>\n",
       "      <th>Ticker</th>\n",
       "      <th>Date</th>\n",
       "      <th>Open</th>\n",
       "      <th>High</th>\n",
       "      <th>Low</th>\n",
       "      <th>Close</th>\n",
       "      <th>Adj_Close</th>\n",
       "      <th>Volume</th>\n",
       "    </tr>\n",
       "  </thead>\n",
       "  <tbody>\n",
       "    <tr>\n",
       "      <th>0</th>\n",
       "      <td>AAPL</td>\n",
       "      <td>2023-02-07</td>\n",
       "      <td>150.64</td>\n",
       "      <td>155.23</td>\n",
       "      <td>150.64</td>\n",
       "      <td>154.65</td>\n",
       "      <td>154.41</td>\n",
       "      <td>83322600.0</td>\n",
       "    </tr>\n",
       "    <tr>\n",
       "      <th>1</th>\n",
       "      <td>AAPL</td>\n",
       "      <td>2023-02-08</td>\n",
       "      <td>153.88</td>\n",
       "      <td>154.58</td>\n",
       "      <td>151.17</td>\n",
       "      <td>151.92</td>\n",
       "      <td>151.69</td>\n",
       "      <td>64120100.0</td>\n",
       "    </tr>\n",
       "    <tr>\n",
       "      <th>2</th>\n",
       "      <td>AAPL</td>\n",
       "      <td>2023-02-09</td>\n",
       "      <td>153.78</td>\n",
       "      <td>154.33</td>\n",
       "      <td>150.42</td>\n",
       "      <td>150.87</td>\n",
       "      <td>150.64</td>\n",
       "      <td>56007100.0</td>\n",
       "    </tr>\n",
       "    <tr>\n",
       "      <th>3</th>\n",
       "      <td>AAPL</td>\n",
       "      <td>2023-02-10</td>\n",
       "      <td>149.46</td>\n",
       "      <td>151.34</td>\n",
       "      <td>149.22</td>\n",
       "      <td>151.01</td>\n",
       "      <td>151.01</td>\n",
       "      <td>57450700.0</td>\n",
       "    </tr>\n",
       "    <tr>\n",
       "      <th>4</th>\n",
       "      <td>AAPL</td>\n",
       "      <td>2023-02-13</td>\n",
       "      <td>150.95</td>\n",
       "      <td>154.26</td>\n",
       "      <td>150.92</td>\n",
       "      <td>153.85</td>\n",
       "      <td>153.85</td>\n",
       "      <td>62199000.0</td>\n",
       "    </tr>\n",
       "  </tbody>\n",
       "</table>\n",
       "</div>"
      ],
      "text/plain": [
       "  Ticker        Date    Open    High     Low   Close  Adj_Close      Volume\n",
       "0   AAPL  2023-02-07  150.64  155.23  150.64  154.65     154.41  83322600.0\n",
       "1   AAPL  2023-02-08  153.88  154.58  151.17  151.92     151.69  64120100.0\n",
       "2   AAPL  2023-02-09  153.78  154.33  150.42  150.87     150.64  56007100.0\n",
       "3   AAPL  2023-02-10  149.46  151.34  149.22  151.01     151.01  57450700.0\n",
       "4   AAPL  2023-02-13  150.95  154.26  150.92  153.85     153.85  62199000.0"
      ]
     },
     "execution_count": 2,
     "metadata": {},
     "output_type": "execute_result"
    }
   ],
   "source": [
    "#load data\n",
    "df = pd.read_csv(\"Stock_Price_Action_Data.csv\")\n",
    "df.head()"
   ]
  },
  {
   "cell_type": "code",
   "execution_count": 3,
   "metadata": {
    "colab": {
     "base_uri": "https://localhost:8080/"
    },
    "id": "3EY9OhCbqjz4",
    "outputId": "213adcc4-3058-496d-f970-62f6de4b4bf0"
   },
   "outputs": [
    {
     "data": {
      "text/plain": [
       "Ticker        object\n",
       "Date          object\n",
       "Open         float64\n",
       "High         float64\n",
       "Low          float64\n",
       "Close        float64\n",
       "Adj_Close    float64\n",
       "Volume       float64\n",
       "dtype: object"
      ]
     },
     "execution_count": 3,
     "metadata": {},
     "output_type": "execute_result"
    }
   ],
   "source": [
    "#Checking for data types\n",
    "df.dtypes"
   ]
  },
  {
   "cell_type": "code",
   "execution_count": 4,
   "metadata": {
    "colab": {
     "base_uri": "https://localhost:8080/"
    },
    "id": "v3sXDX5_rzBB",
    "outputId": "886ca21c-52ec-429a-c241-d1675442bbc1"
   },
   "outputs": [
    {
     "data": {
      "text/plain": [
       "Ticker               object\n",
       "Date         datetime64[ns]\n",
       "Open                float64\n",
       "High                float64\n",
       "Low                 float64\n",
       "Close               float64\n",
       "Adj_Close           float64\n",
       "Volume              float64\n",
       "dtype: object"
      ]
     },
     "execution_count": 4,
     "metadata": {},
     "output_type": "execute_result"
    }
   ],
   "source": [
    "#change date column to datatime\n",
    "df['Date'] = pd.to_datetime(df['Date'])\n",
    "df.dtypes"
   ]
  },
  {
   "cell_type": "code",
   "execution_count": 5,
   "metadata": {
    "colab": {
     "base_uri": "https://localhost:8080/"
    },
    "id": "KJPbllmUsQUW",
    "outputId": "456412ee-1cfa-4357-c080-489d5e944782"
   },
   "outputs": [
    {
     "name": "stdout",
     "output_type": "stream",
     "text": [
      "The dataset has 248 rows and 8 columns.\n"
     ]
    }
   ],
   "source": [
    "#check for columns and rows\n",
    "df.shape\n",
    "print(\"The dataset has {} rows and {} columns.\".format(df.shape[0],df.shape[1]))"
   ]
  },
  {
   "cell_type": "code",
   "execution_count": 6,
   "metadata": {
    "colab": {
     "base_uri": "https://localhost:8080/"
    },
    "id": "Atdnl9wWuKZC",
    "outputId": "c4337e0e-18f0-463f-9736-2162524e2710"
   },
   "outputs": [
    {
     "data": {
      "text/plain": [
       "4"
      ]
     },
     "execution_count": 6,
     "metadata": {},
     "output_type": "execute_result"
    }
   ],
   "source": [
    "#How many Tickers are in the dataset\n",
    "df['Ticker'].nunique()"
   ]
  },
  {
   "cell_type": "code",
   "execution_count": 7,
   "metadata": {
    "colab": {
     "base_uri": "https://localhost:8080/"
    },
    "id": "px_plhIF0eb7",
    "outputId": "fbe22968-aaad-4892-b4e9-55fc320b3fd9"
   },
   "outputs": [
    {
     "name": "stdout",
     "output_type": "stream",
     "text": [
      "['AAPL' 'MSFT' 'NFLX' 'GOOG']\n",
      "The dataset contains the price action data of four companies, Apple - AAPL, Microsoft - MFST, Netflix - NFLX, and Google - GOOG.\n"
     ]
    }
   ],
   "source": [
    "ticker_sys = df['Ticker'].unique()\n",
    "print(ticker_sys)\n",
    "print(\"The dataset contains the price action data of four companies, Apple - AAPL, Microsoft - MFST, Netflix - NFLX, and Google - GOOG.\")"
   ]
  },
  {
   "cell_type": "markdown",
   "metadata": {
    "id": "7KKSW_qq7s_W"
   },
   "source": [
    "## **Checking the Statistical Metrics of our data**"
   ]
  },
  {
   "cell_type": "code",
   "execution_count": 8,
   "metadata": {
    "colab": {
     "base_uri": "https://localhost:8080/",
     "height": 455
    },
    "id": "9w48nrbg2I-W",
    "outputId": "4ab16438-c3ed-4d72-b300-83903de13955"
   },
   "outputs": [
    {
     "data": {
      "text/html": [
       "<div>\n",
       "<style scoped>\n",
       "    .dataframe tbody tr th:only-of-type {\n",
       "        vertical-align: middle;\n",
       "    }\n",
       "\n",
       "    .dataframe tbody tr th {\n",
       "        vertical-align: top;\n",
       "    }\n",
       "\n",
       "    .dataframe thead th {\n",
       "        text-align: right;\n",
       "    }\n",
       "</style>\n",
       "<table border=\"1\" class=\"dataframe\">\n",
       "  <thead>\n",
       "    <tr style=\"text-align: right;\">\n",
       "      <th></th>\n",
       "      <th>Ticker</th>\n",
       "      <th>Open</th>\n",
       "      <th>High</th>\n",
       "      <th>Low</th>\n",
       "      <th>Close</th>\n",
       "      <th>Adj_Close</th>\n",
       "      <th>Volume</th>\n",
       "    </tr>\n",
       "    <tr>\n",
       "      <th>Date</th>\n",
       "      <th></th>\n",
       "      <th></th>\n",
       "      <th></th>\n",
       "      <th></th>\n",
       "      <th></th>\n",
       "      <th></th>\n",
       "      <th></th>\n",
       "    </tr>\n",
       "  </thead>\n",
       "  <tbody>\n",
       "    <tr>\n",
       "      <th>2023-02-07</th>\n",
       "      <td>AAPL</td>\n",
       "      <td>150.64</td>\n",
       "      <td>155.23</td>\n",
       "      <td>150.64</td>\n",
       "      <td>154.65</td>\n",
       "      <td>154.41</td>\n",
       "      <td>83322600.0</td>\n",
       "    </tr>\n",
       "    <tr>\n",
       "      <th>2023-02-08</th>\n",
       "      <td>AAPL</td>\n",
       "      <td>153.88</td>\n",
       "      <td>154.58</td>\n",
       "      <td>151.17</td>\n",
       "      <td>151.92</td>\n",
       "      <td>151.69</td>\n",
       "      <td>64120100.0</td>\n",
       "    </tr>\n",
       "    <tr>\n",
       "      <th>2023-02-09</th>\n",
       "      <td>AAPL</td>\n",
       "      <td>153.78</td>\n",
       "      <td>154.33</td>\n",
       "      <td>150.42</td>\n",
       "      <td>150.87</td>\n",
       "      <td>150.64</td>\n",
       "      <td>56007100.0</td>\n",
       "    </tr>\n",
       "    <tr>\n",
       "      <th>2023-02-10</th>\n",
       "      <td>AAPL</td>\n",
       "      <td>149.46</td>\n",
       "      <td>151.34</td>\n",
       "      <td>149.22</td>\n",
       "      <td>151.01</td>\n",
       "      <td>151.01</td>\n",
       "      <td>57450700.0</td>\n",
       "    </tr>\n",
       "    <tr>\n",
       "      <th>2023-02-13</th>\n",
       "      <td>AAPL</td>\n",
       "      <td>150.95</td>\n",
       "      <td>154.26</td>\n",
       "      <td>150.92</td>\n",
       "      <td>153.85</td>\n",
       "      <td>153.85</td>\n",
       "      <td>62199000.0</td>\n",
       "    </tr>\n",
       "    <tr>\n",
       "      <th>...</th>\n",
       "      <td>...</td>\n",
       "      <td>...</td>\n",
       "      <td>...</td>\n",
       "      <td>...</td>\n",
       "      <td>...</td>\n",
       "      <td>...</td>\n",
       "      <td>...</td>\n",
       "    </tr>\n",
       "    <tr>\n",
       "      <th>2023-05-01</th>\n",
       "      <td>GOOG</td>\n",
       "      <td>107.72</td>\n",
       "      <td>108.68</td>\n",
       "      <td>107.50</td>\n",
       "      <td>107.71</td>\n",
       "      <td>107.71</td>\n",
       "      <td>20926300.0</td>\n",
       "    </tr>\n",
       "    <tr>\n",
       "      <th>2023-05-02</th>\n",
       "      <td>GOOG</td>\n",
       "      <td>107.66</td>\n",
       "      <td>107.73</td>\n",
       "      <td>104.50</td>\n",
       "      <td>105.98</td>\n",
       "      <td>105.98</td>\n",
       "      <td>20343100.0</td>\n",
       "    </tr>\n",
       "    <tr>\n",
       "      <th>2023-05-03</th>\n",
       "      <td>GOOG</td>\n",
       "      <td>106.22</td>\n",
       "      <td>108.13</td>\n",
       "      <td>105.62</td>\n",
       "      <td>106.12</td>\n",
       "      <td>106.12</td>\n",
       "      <td>17116300.0</td>\n",
       "    </tr>\n",
       "    <tr>\n",
       "      <th>2023-05-04</th>\n",
       "      <td>GOOG</td>\n",
       "      <td>106.16</td>\n",
       "      <td>106.30</td>\n",
       "      <td>104.70</td>\n",
       "      <td>105.21</td>\n",
       "      <td>105.21</td>\n",
       "      <td>19780600.0</td>\n",
       "    </tr>\n",
       "    <tr>\n",
       "      <th>2023-05-05</th>\n",
       "      <td>GOOG</td>\n",
       "      <td>105.32</td>\n",
       "      <td>106.44</td>\n",
       "      <td>104.74</td>\n",
       "      <td>106.21</td>\n",
       "      <td>106.21</td>\n",
       "      <td>20705300.0</td>\n",
       "    </tr>\n",
       "  </tbody>\n",
       "</table>\n",
       "<p>248 rows × 7 columns</p>\n",
       "</div>"
      ],
      "text/plain": [
       "           Ticker    Open    High     Low   Close  Adj_Close      Volume\n",
       "Date                                                                    \n",
       "2023-02-07   AAPL  150.64  155.23  150.64  154.65     154.41  83322600.0\n",
       "2023-02-08   AAPL  153.88  154.58  151.17  151.92     151.69  64120100.0\n",
       "2023-02-09   AAPL  153.78  154.33  150.42  150.87     150.64  56007100.0\n",
       "2023-02-10   AAPL  149.46  151.34  149.22  151.01     151.01  57450700.0\n",
       "2023-02-13   AAPL  150.95  154.26  150.92  153.85     153.85  62199000.0\n",
       "...           ...     ...     ...     ...     ...        ...         ...\n",
       "2023-05-01   GOOG  107.72  108.68  107.50  107.71     107.71  20926300.0\n",
       "2023-05-02   GOOG  107.66  107.73  104.50  105.98     105.98  20343100.0\n",
       "2023-05-03   GOOG  106.22  108.13  105.62  106.12     106.12  17116300.0\n",
       "2023-05-04   GOOG  106.16  106.30  104.70  105.21     105.21  19780600.0\n",
       "2023-05-05   GOOG  105.32  106.44  104.74  106.21     106.21  20705300.0\n",
       "\n",
       "[248 rows x 7 columns]"
      ]
     },
     "execution_count": 8,
     "metadata": {},
     "output_type": "execute_result"
    }
   ],
   "source": [
    "#summary\n",
    "df.set_index('Date')"
   ]
  },
  {
   "cell_type": "code",
   "execution_count": 9,
   "metadata": {
    "colab": {
     "base_uri": "https://localhost:8080/",
     "height": 368
    },
    "id": "9R4o24Gc3V0g",
    "outputId": "d7f0a8d4-a071-4ddc-bc5f-f6547a7b1192"
   },
   "outputs": [
    {
     "data": {
      "image/png": "[encoded data removed]",
      "text/plain": [
       "<Figure size 600x400 with 1 Axes>"
      ]
     },
     "metadata": {},
     "output_type": "display_data"
    }
   ],
   "source": [
    "#sock data line graph\n",
    "plt.figure(figsize = (6,4))\n",
    "df['Close'].plot()\n",
    "plt.show()"
   ]
  },
  {
   "cell_type": "code",
   "execution_count": 10,
   "metadata": {
    "colab": {
     "base_uri": "https://localhost:8080/",
     "height": 206
    },
    "id": "sbjwsdMq4FLp",
    "outputId": "16934be1-d212-4aaa-8e3f-bac2c84aa5b6"
   },
   "outputs": [
    {
     "data": {
      "text/html": [
       "<div>\n",
       "<style scoped>\n",
       "    .dataframe tbody tr th:only-of-type {\n",
       "        vertical-align: middle;\n",
       "    }\n",
       "\n",
       "    .dataframe tbody tr th {\n",
       "        vertical-align: top;\n",
       "    }\n",
       "\n",
       "    .dataframe thead th {\n",
       "        text-align: right;\n",
       "    }\n",
       "</style>\n",
       "<table border=\"1\" class=\"dataframe\">\n",
       "  <thead>\n",
       "    <tr style=\"text-align: right;\">\n",
       "      <th></th>\n",
       "      <th>Ticker</th>\n",
       "      <th>Date</th>\n",
       "      <th>Open</th>\n",
       "      <th>High</th>\n",
       "      <th>Low</th>\n",
       "      <th>Close</th>\n",
       "      <th>Adj_Close</th>\n",
       "      <th>Volume</th>\n",
       "      <th>PriceDiff</th>\n",
       "    </tr>\n",
       "  </thead>\n",
       "  <tbody>\n",
       "    <tr>\n",
       "      <th>0</th>\n",
       "      <td>AAPL</td>\n",
       "      <td>2023-02-07</td>\n",
       "      <td>150.64</td>\n",
       "      <td>155.23</td>\n",
       "      <td>150.64</td>\n",
       "      <td>154.65</td>\n",
       "      <td>154.41</td>\n",
       "      <td>83322600.0</td>\n",
       "      <td>-2.73</td>\n",
       "    </tr>\n",
       "    <tr>\n",
       "      <th>1</th>\n",
       "      <td>AAPL</td>\n",
       "      <td>2023-02-08</td>\n",
       "      <td>153.88</td>\n",
       "      <td>154.58</td>\n",
       "      <td>151.17</td>\n",
       "      <td>151.92</td>\n",
       "      <td>151.69</td>\n",
       "      <td>64120100.0</td>\n",
       "      <td>-1.05</td>\n",
       "    </tr>\n",
       "    <tr>\n",
       "      <th>2</th>\n",
       "      <td>AAPL</td>\n",
       "      <td>2023-02-09</td>\n",
       "      <td>153.78</td>\n",
       "      <td>154.33</td>\n",
       "      <td>150.42</td>\n",
       "      <td>150.87</td>\n",
       "      <td>150.64</td>\n",
       "      <td>56007100.0</td>\n",
       "      <td>0.14</td>\n",
       "    </tr>\n",
       "    <tr>\n",
       "      <th>3</th>\n",
       "      <td>AAPL</td>\n",
       "      <td>2023-02-10</td>\n",
       "      <td>149.46</td>\n",
       "      <td>151.34</td>\n",
       "      <td>149.22</td>\n",
       "      <td>151.01</td>\n",
       "      <td>151.01</td>\n",
       "      <td>57450700.0</td>\n",
       "      <td>2.84</td>\n",
       "    </tr>\n",
       "    <tr>\n",
       "      <th>4</th>\n",
       "      <td>AAPL</td>\n",
       "      <td>2023-02-13</td>\n",
       "      <td>150.95</td>\n",
       "      <td>154.26</td>\n",
       "      <td>150.92</td>\n",
       "      <td>153.85</td>\n",
       "      <td>153.85</td>\n",
       "      <td>62199000.0</td>\n",
       "      <td>-0.65</td>\n",
       "    </tr>\n",
       "  </tbody>\n",
       "</table>\n",
       "</div>"
      ],
      "text/plain": [
       "  Ticker       Date    Open    High     Low   Close  Adj_Close      Volume  \\\n",
       "0   AAPL 2023-02-07  150.64  155.23  150.64  154.65     154.41  83322600.0   \n",
       "1   AAPL 2023-02-08  153.88  154.58  151.17  151.92     151.69  64120100.0   \n",
       "2   AAPL 2023-02-09  153.78  154.33  150.42  150.87     150.64  56007100.0   \n",
       "3   AAPL 2023-02-10  149.46  151.34  149.22  151.01     151.01  57450700.0   \n",
       "4   AAPL 2023-02-13  150.95  154.26  150.92  153.85     153.85  62199000.0   \n",
       "\n",
       "   PriceDiff  \n",
       "0      -2.73  \n",
       "1      -1.05  \n",
       "2       0.14  \n",
       "3       2.84  \n",
       "4      -0.65  "
      ]
     },
     "execution_count": 10,
     "metadata": {},
     "output_type": "execute_result"
    }
   ],
   "source": [
    "#creatinf a new column to check prices difference\n",
    "df['PriceDiff'] = df['Close'].shift(-1) - df['Close']\n",
    "df.head()"
   ]
  },
  {
   "cell_type": "code",
   "execution_count": 11,
   "metadata": {
    "colab": {
     "base_uri": "https://localhost:8080/",
     "height": 206
    },
    "id": "hyMpGeO4-TA9",
    "outputId": "382f01ff-3717-4c91-9f37-f14c131fd128"
   },
   "outputs": [
    {
     "data": {
      "text/html": [
       "<div>\n",
       "<style scoped>\n",
       "    .dataframe tbody tr th:only-of-type {\n",
       "        vertical-align: middle;\n",
       "    }\n",
       "\n",
       "    .dataframe tbody tr th {\n",
       "        vertical-align: top;\n",
       "    }\n",
       "\n",
       "    .dataframe thead th {\n",
       "        text-align: right;\n",
       "    }\n",
       "</style>\n",
       "<table border=\"1\" class=\"dataframe\">\n",
       "  <thead>\n",
       "    <tr style=\"text-align: right;\">\n",
       "      <th></th>\n",
       "      <th>Ticker</th>\n",
       "      <th>Date</th>\n",
       "      <th>Open</th>\n",
       "      <th>High</th>\n",
       "      <th>Low</th>\n",
       "      <th>Close</th>\n",
       "      <th>Adj_Close</th>\n",
       "      <th>Volume</th>\n",
       "      <th>PriceDiff</th>\n",
       "      <th>Return</th>\n",
       "    </tr>\n",
       "  </thead>\n",
       "  <tbody>\n",
       "    <tr>\n",
       "      <th>0</th>\n",
       "      <td>AAPL</td>\n",
       "      <td>2023-02-07</td>\n",
       "      <td>150.64</td>\n",
       "      <td>155.23</td>\n",
       "      <td>150.64</td>\n",
       "      <td>154.65</td>\n",
       "      <td>154.41</td>\n",
       "      <td>83322600.0</td>\n",
       "      <td>-2.73</td>\n",
       "      <td>-0.017653</td>\n",
       "    </tr>\n",
       "    <tr>\n",
       "      <th>1</th>\n",
       "      <td>AAPL</td>\n",
       "      <td>2023-02-08</td>\n",
       "      <td>153.88</td>\n",
       "      <td>154.58</td>\n",
       "      <td>151.17</td>\n",
       "      <td>151.92</td>\n",
       "      <td>151.69</td>\n",
       "      <td>64120100.0</td>\n",
       "      <td>-1.05</td>\n",
       "      <td>-0.006912</td>\n",
       "    </tr>\n",
       "    <tr>\n",
       "      <th>2</th>\n",
       "      <td>AAPL</td>\n",
       "      <td>2023-02-09</td>\n",
       "      <td>153.78</td>\n",
       "      <td>154.33</td>\n",
       "      <td>150.42</td>\n",
       "      <td>150.87</td>\n",
       "      <td>150.64</td>\n",
       "      <td>56007100.0</td>\n",
       "      <td>0.14</td>\n",
       "      <td>0.000928</td>\n",
       "    </tr>\n",
       "    <tr>\n",
       "      <th>3</th>\n",
       "      <td>AAPL</td>\n",
       "      <td>2023-02-10</td>\n",
       "      <td>149.46</td>\n",
       "      <td>151.34</td>\n",
       "      <td>149.22</td>\n",
       "      <td>151.01</td>\n",
       "      <td>151.01</td>\n",
       "      <td>57450700.0</td>\n",
       "      <td>2.84</td>\n",
       "      <td>0.018807</td>\n",
       "    </tr>\n",
       "    <tr>\n",
       "      <th>4</th>\n",
       "      <td>AAPL</td>\n",
       "      <td>2023-02-13</td>\n",
       "      <td>150.95</td>\n",
       "      <td>154.26</td>\n",
       "      <td>150.92</td>\n",
       "      <td>153.85</td>\n",
       "      <td>153.85</td>\n",
       "      <td>62199000.0</td>\n",
       "      <td>-0.65</td>\n",
       "      <td>-0.004225</td>\n",
       "    </tr>\n",
       "  </tbody>\n",
       "</table>\n",
       "</div>"
      ],
      "text/plain": [
       "  Ticker       Date    Open    High     Low   Close  Adj_Close      Volume  \\\n",
       "0   AAPL 2023-02-07  150.64  155.23  150.64  154.65     154.41  83322600.0   \n",
       "1   AAPL 2023-02-08  153.88  154.58  151.17  151.92     151.69  64120100.0   \n",
       "2   AAPL 2023-02-09  153.78  154.33  150.42  150.87     150.64  56007100.0   \n",
       "3   AAPL 2023-02-10  149.46  151.34  149.22  151.01     151.01  57450700.0   \n",
       "4   AAPL 2023-02-13  150.95  154.26  150.92  153.85     153.85  62199000.0   \n",
       "\n",
       "   PriceDiff    Return  \n",
       "0      -2.73 -0.017653  \n",
       "1      -1.05 -0.006912  \n",
       "2       0.14  0.000928  \n",
       "3       2.84  0.018807  \n",
       "4      -0.65 -0.004225  "
      ]
     },
     "execution_count": 11,
     "metadata": {},
     "output_type": "execute_result"
    }
   ],
   "source": [
    "#calculating the percentage change (return)\n",
    "df['Return'] = df['PriceDiff']/df['Close']\n",
    "df.head()"
   ]
  },
  {
   "cell_type": "code",
   "execution_count": 15,
   "metadata": {
    "colab": {
     "base_uri": "https://localhost:8080/",
     "height": 676
    },
    "id": "w7UeENQgHqTk",
    "outputId": "f70c9d4e-5387-48f4-f7ef-6732a14380a4"
   },
   "outputs": [
    {
     "data": {
      "image/png": "[encoded data removed]",
      "text/plain": [
       "<Figure size 1000x800 with 1 Axes>"
      ]
     },
     "metadata": {},
     "output_type": "display_data"
    }
   ],
   "source": [
    "#Moving averages for 10 days\n",
    "df['RollAvg10'] = df['Close'].rolling(10).mean()\n",
    "\n",
    "#ploting a graph\n",
    "plt.figure(figsize = (10,8))\n",
    "df['Close'].plot(label = 'Close')\n",
    "df['RollAvg10'].plot(label = 'RollAvg_10')\n",
    "plt.legend()\n",
    "plt.show()"
   ]
  },
  {
   "cell_type": "markdown",
   "metadata": {
    "id": "6EXLaMUp3Zq0"
   },
   "source": [
    "Since the close price crosses above the rolling average, it suggests a potential uptrend or buying opportunity. "
   ]
  },
  {
   "cell_type": "code",
   "execution_count": null,
   "metadata": {},
   "outputs": [],
   "source": []
  }
 ],
 "metadata": {
  "colab": {
   "provenance": []
  },
  "kernelspec": {
   "display_name": "Python 3 (ipykernel)",
   "language": "python",
   "name": "python3"
  },
  "language_info": {
   "codemirror_mode": {
    "name": "ipython",
    "version": 3
   },
   "file_extension": ".py",
   "mimetype": "text/x-python",
   "name": "python",
   "nbconvert_exporter": "python",
   "pygments_lexer": "ipython3",
   "version": "3.10.9"
  }
 },
 "nbformat": 4,
 "nbformat_minor": 1
}
